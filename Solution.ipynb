{
 "cells": [
  {
   "cell_type": "markdown",
   "metadata": {},
   "source": [
    "$db/dt = -3$\n",
    "\n",
    "let Area = $A$\n",
    "we are asked for $dA/dt$ when $y=20$\n",
    "\n",
    "$A = bh$\n",
    "\n",
    "we need to get rid of $h$ in that.  Trig to the rescue, the small triangle:\n",
    "\n",
    "$tan(30) = h/y$\n",
    "\n",
    "$h = y.tan(30)$\n",
    "\n",
    "substitute that in\n",
    "\n",
    "$A = b.tan(30).y$\n",
    "\n",
    "Now we have A in terms of b and y.  Let's get rid of y.  Trig again to the rescue, this time the big triangle.\n",
    "\n",
    "$cos(30) = (b+y)/50$\n",
    "\n",
    "$b+y = 50.cos(30)$\n",
    "\n",
    "$y = 50.cos(30)-b$\n",
    "\n",
    "Let's get some actual numbers here ..."
   ]
  },
  {
   "cell_type": "code",
   "execution_count": 2,
   "metadata": {
    "collapsed": false
   },
   "outputs": [
    {
     "name": "stdout",
     "output_type": "stream",
     "text": [
      "43.30127018922194\n",
      "0.5773502691896256\n"
     ]
    }
   ],
   "source": [
    "from math import cos,tan,radians\n",
    "print(50*cos(radians(30)))\n",
    "print(tan(radians(30)))"
   ]
  },
  {
   "cell_type": "markdown",
   "metadata": {},
   "source": [
    "so \n",
    "\n",
    "$A = b . (0.58) y$\n",
    "\n",
    "$y = 43.3 - b$\n",
    "\n",
    "so \n",
    "\n",
    "$A = (0.58)b . (43.3 - b)$\n",
    "\n",
    "$A = (43.3)(0.58)b - (0.58)b^2$"
   ]
  },
  {
   "cell_type": "code",
   "execution_count": 3,
   "metadata": {
    "collapsed": false
   },
   "outputs": [
    {
     "name": "stdout",
     "output_type": "stream",
     "text": [
      "25.113999999999997\n"
     ]
    }
   ],
   "source": [
    "print(43.3*0.58)"
   ]
  },
  {
   "cell_type": "markdown",
   "metadata": {},
   "source": [
    "$A = 25.1b - (0.58)b^2$\n",
    "\n",
    "$dA/db = 25.1 - 2(0.58)b$\n",
    "\n",
    "$dA/db = 25.1 - 1.16b$\n",
    "\n",
    "when y = 20, we can find b\n",
    "\n",
    "$y = 43.3−b$\n",
    "\n",
    "$b = 43.3 - y$\n",
    "\n",
    "$b = 23.3$\n",
    "\n",
    "substitute it in\n",
    "\n",
    "$dA/db = 25.1 - 1.16(23.3)$"
   ]
  },
  {
   "cell_type": "code",
   "execution_count": 4,
   "metadata": {
    "collapsed": false
   },
   "outputs": [
    {
     "name": "stdout",
     "output_type": "stream",
     "text": [
      "-1.6949999999999967\n"
     ]
    }
   ],
   "source": [
    "print(25.1-1.15*23.3)"
   ]
  },
  {
   "cell_type": "code",
   "execution_count": null,
   "metadata": {
    "collapsed": true
   },
   "outputs": [],
   "source": []
  }
 ],
 "metadata": {
  "anaconda-cloud": {},
  "kernelspec": {
   "display_name": "Python [Root]",
   "language": "python",
   "name": "Python [Root]"
  },
  "language_info": {
   "codemirror_mode": {
    "name": "ipython",
    "version": 3
   },
   "file_extension": ".py",
   "mimetype": "text/x-python",
   "name": "python",
   "nbconvert_exporter": "python",
   "pygments_lexer": "ipython3",
   "version": "3.5.2"
  }
 },
 "nbformat": 4,
 "nbformat_minor": 0
}
